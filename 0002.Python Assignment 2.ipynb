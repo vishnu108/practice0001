{
 "cells": [
  {
   "cell_type": "markdown",
   "metadata": {},
   "source": [
    "### 1. Create the below pattern using nested for loop in Python.\n",
    "\n",
    "###### *\n",
    "###### * *\n",
    "###### * * *\n",
    "###### * * * *\n",
    "###### * * * * *\n",
    "###### * * * *\n",
    "###### * * *\n",
    "###### * *\n",
    "###### *"
   ]
  },
  {
   "cell_type": "code",
   "execution_count": 44,
   "metadata": {},
   "outputs": [
    {
     "name": "stdout",
     "output_type": "stream",
     "text": [
      "* \n",
      "* * \n",
      "* * * \n",
      "* * * * \n",
      "* * * * * \n",
      "* * * * \n",
      "* * * \n",
      "* * \n",
      "* \n",
      "\n"
     ]
    }
   ],
   "source": [
    "def drawpattern(n):\n",
    "    \n",
    "    for i in range(1,n+1):\n",
    "        for j in range(1,i+1):\n",
    "            print('*',end=' ')\n",
    "        print()\n",
    "    for k in range(1,n+1):\n",
    "        for l in range(1,n+1-k):\n",
    "            print('*',end=' ')\n",
    "        print()\n",
    "\n",
    "drawpattern(5)"
   ]
  },
  {
   "cell_type": "markdown",
   "metadata": {},
   "source": [
    "### 2. Write a Python program to reverse a word after accepting the input from the user.\n",
    "\n",
    "##### Sample Output:\n",
    "##### Input word: ineuron\n",
    "\n",
    "##### Output: norueni"
   ]
  },
  {
   "cell_type": "code",
   "execution_count": 6,
   "metadata": {},
   "outputs": [
    {
     "name": "stdin",
     "output_type": "stream",
     "text": [
      "Enter a word to reverse:  ineuron\n"
     ]
    },
    {
     "name": "stdout",
     "output_type": "stream",
     "text": [
      "norueni\n"
     ]
    },
    {
     "name": "stdin",
     "output_type": "stream",
     "text": [
      "Enter a word to reverse:  ineuron\n"
     ]
    },
    {
     "name": "stdout",
     "output_type": "stream",
     "text": [
      "norueni"
     ]
    },
    {
     "name": "stdin",
     "output_type": "stream",
     "text": [
      "Enter a word to reverse:  ineuron\n"
     ]
    },
    {
     "name": "stdout",
     "output_type": "stream",
     "text": [
      "norueni"
     ]
    }
   ],
   "source": [
    "def reverseword(word):\n",
    "    print(word[::-1])\n",
    "    \n",
    "def reverseword1(word):\n",
    "    l=len(word)\n",
    "    for x in range(l):\n",
    "        print(word[l-x-1],end='')\n",
    "        \n",
    "def reverseword2(word):\n",
    "    stop=0\n",
    "    l=len(word)\n",
    "    while True:\n",
    "        print(word[l-1],end='')\n",
    "        l=l-1\n",
    "        if l == stop:\n",
    "            break\n",
    "\n",
    "reverseword(input(\"Enter a word to reverse: \"))\n",
    "reverseword1(input(\"Enter a word to reverse: \"))\n",
    "reverseword2(input(\"Enter a word to reverse: \"))"
   ]
  }
 ],
 "metadata": {
  "kernelspec": {
   "display_name": "Python 3",
   "language": "python",
   "name": "python3"
  },
  "language_info": {
   "codemirror_mode": {
    "name": "ipython",
    "version": 3
   },
   "file_extension": ".py",
   "mimetype": "text/x-python",
   "name": "python",
   "nbconvert_exporter": "python",
   "pygments_lexer": "ipython3",
   "version": "3.8.5"
  }
 },
 "nbformat": 4,
 "nbformat_minor": 4
}
